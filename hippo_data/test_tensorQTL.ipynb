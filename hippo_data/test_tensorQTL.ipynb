{
 "cells": [
  {
   "cell_type": "code",
   "execution_count": 1,
   "id": "a935ac11-b8e5-4114-8e20-315625ffe8ef",
   "metadata": {},
   "outputs": [
    {
     "name": "stdout",
     "output_type": "stream",
     "text": [
      "PyTorch 2.2.0+cu121\n",
      "CUDA available: True (NVIDIA RTX A2000 12GB)\n",
      "Pandas 2.1.4\n",
      "tensorqtl 1.0.9\n"
     ]
    }
   ],
   "source": [
    "#!/usr/bin/env python\n",
    "import pandas as pd\n",
    "import torch\n",
    "import tensorqtl\n",
    "from tensorqtl import genotypeio, cis\n",
    "import time\n",
    "import os\n",
    "import os.path as op\n",
    "import sys\n",
    "import glob\n",
    "import re\n",
    "print(f'PyTorch {torch.__version__}')\n",
    "#print(torch.__version__) \n",
    "print('CUDA available: {} ({})'.format(torch.cuda.is_available(), torch.cuda.get_device_name(torch.cuda.current_device())))\n",
    "print(f'Pandas {pd.__version__}')\n",
    "print(f'tensorqtl {tensorqtl.__version__}')\n",
    "\n",
    "outdir='eqtl_out'\n",
    "if not os.path.exists(outdir):\n",
    "    os.makedirs(outdir)"
   ]
  },
  {
   "cell_type": "code",
   "execution_count": 2,
   "id": "9b769386-4358-46be-ba6f-7bcffa0c4a98",
   "metadata": {},
   "outputs": [
    {
     "name": "stdout",
     "output_type": "stream",
     "text": [
      "mapping genotype IDs to RNAseq sample IDs based on mapping file: mapping_gt2rna.tab\n"
     ]
    }
   ],
   "source": [
    "mapping_file=\"mapping_gt2rna.tab\" # if this file exists, genotype IDs will be changed to their mappings in the 2nd columns\n",
    "col_map = None\n",
    "if op.exists(mapping_file):\n",
    "    print(f\"mapping genotype IDs to RNAseq sample IDs based on mapping file: {mapping_file}\")\n",
    "    mapping_df = pd.read_csv(mapping_file, sep=\"\\t\", header=None, names=[\"gt_id\", \"r_id\"])\n",
    "    col_map = dict(zip(mapping_df['gt_id'], mapping_df['r_id']))"
   ]
  },
  {
   "cell_type": "code",
   "execution_count": 3,
   "id": "41eebfff-a228-463f-b50f-4ff0e5db9a83",
   "metadata": {},
   "outputs": [
    {
     "name": "stdout",
     "output_type": "stream",
     "text": [
      "features found:  ['gene', 'tx']\n"
     ]
    }
   ],
   "source": [
    "## make sure the output files are .-delimited tokens \n",
    "## with gene/tx/exon/jx (feature) as the 2nd token\n",
    "exprfiles=glob.glob('eqtl_input/*.*.expr.bed.gz')\n",
    "feats = [os.path.basename(file).split('.')[1] for file in exprfiles]\n",
    "exprdict = {os.path.basename(file).split('.')[1]: file for file in exprfiles}\n",
    "for feat in feats:\n",
    "    expres = exprdict[feat]\n",
    "    covar=expres.replace(\"expr.bed.gz\", \"covars.txt\")\n",
    "    if not op.exists(covar):\n",
    "       raise FileNotFoundError(error_message)(\"Covars file \"+covar+\" not found!\")\n",
    "print(\"features found: \",feats)"
   ]
  },
  {
   "cell_type": "code",
   "execution_count": 4,
   "id": "7c26c66a-f599-447e-8250-5caa4b743dd5",
   "metadata": {},
   "outputs": [
    {
     "name": "stdout",
     "output_type": "stream",
     "text": [
      "Plink fam file found.\n"
     ]
    },
    {
     "name": "stderr",
     "output_type": "stream",
     "text": [
      "Mapping files: 100%|█████████████████████████████████████████████████████████████████████████| 3/3 [00:09<00:00,  3.26s/it]\n"
     ]
    },
    {
     "name": "stdout",
     "output_type": "stream",
     "text": [
      "Genotype dimensions:(11560560, 195)\n",
      "iid               Br1004  Br1017  Br1033  Br1039  Br1053  Br1056  Br1092\n",
      "snp                                                                     \n",
      "chr10:10905:G:A        0       0       0       0       0       0       0\n",
      "chr10:10943:G:C        0       0       0       0       0       0       0\n",
      "chr10:12113:AC:A       0       0       0       0       0       0       1\n",
      "chr10:14538:C:T        0       0       0       0       0       0       0\n",
      "chr10:15649:T:TG       1       0       0       1       0       1       1\n"
     ]
    }
   ],
   "source": [
    "plink =  'genotypes/hippo_subset'\n",
    "if op.exists(plink+'.fam'): \n",
    "    print(\"Plink fam file found.\")\n",
    "else:\n",
    "    print(\"Plink fam \"+plink+\".fam not found!\")\n",
    "# ---\n",
    "pr = genotypeio.PlinkReader(plink)\n",
    "genotype_df = pr.load_genotypes()\n",
    "variant_df = pr.bim.set_index('snp')[['chrom', 'pos']]\n",
    "print(\"Genotype dimensions:\", end='')\n",
    "print(genotype_df.shape)\n",
    "# if a mapping file is given\n",
    "# Check if all genotype_df column names are in the mapping file\n",
    "#all_columns_found = genotype_df.columns.isin(mapping_df[\"current_column\"]).all()\n",
    "\n",
    "if col_map is not None:\n",
    "  # Rename columns using the dictionary\n",
    "  genotype_df.rename(columns=col_map, inplace=True)\n",
    "# Now genotype_df contains the updated column names\n",
    "print(genotype_df.iloc[:5, :7])  # Display the first few rows"
   ]
  },
  {
   "cell_type": "code",
   "execution_count": 5,
   "id": "0fe041c3-e095-4244-a7bb-3652c999a369",
   "metadata": {},
   "outputs": [],
   "source": [
    "## Fix chromosomes (add the \"chr\" prefix) if needed:\n",
    "if not variant_df.chrom.iloc[0].startswith('chr'):\n",
    "   variant_df.chrom = [ 'chr' + chrom for chrom in variant_df.chrom]\n",
    "## select chromosomes - to make sure we have the same chromosomes in our data for each expression dataset\n",
    "variant_chrom = set(variant_df.chrom)\n"
   ]
  },
  {
   "cell_type": "code",
   "execution_count": 6,
   "id": "d66fd02a-988f-4a2d-8565-373ab505a2f4",
   "metadata": {
    "editable": true,
    "slideshow": {
     "slide_type": ""
    },
    "tags": []
   },
   "outputs": [
    {
     "name": "stdout",
     "output_type": "stream",
     "text": [
      " Processing feature: gene\n",
      "Covariates dim:(195, 25)\n",
      "Phenotype dimensions:(24703, 195)\n",
      "cis-QTL mapping: nominal associations for all variant-phenotype pairs\n",
      "  * 195 samples\n",
      "  * 24703 phenotypes\n",
      "  * 25 covariates\n",
      "  * 11560560 variants\n",
      "  * applying in-sample 0.05 MAF filter\n",
      "  * cis-window: ±500,000\n",
      "  * checking phenotypes: 24703/24703\n",
      "    ** dropping 70 phenotypes without variants in cis-window\n",
      "  * Computing associations\n",
      "    Mapping chromosome chr1\n"
     ]
    },
    {
     "name": "stderr",
     "output_type": "stream",
     "text": [
      "/opt/conda/envs/tensorqtl/lib/python3.11/site-packages/tensorqtl/core.py:141: UserWarning: var(): degrees of freedom is <= 0. Correction should be strictly less than the reduction factor (input numel divided by output numel). (Triggered internally at ../aten/src/ATen/native/ReduceOps.cpp:1760.)\n",
      "  genotype_var_t = genotype_res_t.var(1)\n"
     ]
    },
    {
     "name": "stdout",
     "output_type": "stream",
     "text": [
      "    time elapsed: 0.09 min\n",
      "    * writing output\n",
      "    Mapping chromosome chr2\n",
      "    time elapsed: 0.22 min\n",
      "    * writing output\n",
      "    Mapping chromosome chr3\n",
      "    time elapsed: 0.33 min\n",
      "    * writing output\n",
      "    Mapping chromosome chr4\n",
      "    time elapsed: 0.41 min\n",
      "    * writing output\n",
      "    Mapping chromosome chr5\n",
      "    time elapsed: 0.49 min\n",
      "    * writing output\n",
      "    Mapping chromosome chr6\n",
      "    time elapsed: 0.58 min\n",
      "    * writing output\n",
      "    Mapping chromosome chr7\n",
      "    time elapsed: 0.68 min\n",
      "    * writing output\n",
      "    Mapping chromosome chr8\n",
      "    time elapsed: 0.76 min\n",
      "    * writing output\n",
      "    Mapping chromosome chr9\n",
      "    time elapsed: 0.83 min\n",
      "    * writing output\n",
      "    Mapping chromosome chr10\n",
      "    time elapsed: 0.89 min\n",
      "    * writing output\n",
      "    Mapping chromosome chr11\n",
      "    time elapsed: 0.98 min\n",
      "    * writing output\n",
      "    Mapping chromosome chr12\n",
      "    time elapsed: 1.07 min\n",
      "    * writing output\n",
      "    Mapping chromosome chr13\n",
      "    time elapsed: 1.13 min\n",
      "    * writing output\n",
      "    Mapping chromosome chr14\n",
      "    time elapsed: 1.18 min\n",
      "    * writing output\n",
      "    Mapping chromosome chr15\n",
      "    time elapsed: 1.25 min\n",
      "    * writing output\n",
      "    Mapping chromosome chr16\n",
      "    time elapsed: 1.33 min\n",
      "    * writing output\n",
      "    Mapping chromosome chr17\n",
      "    time elapsed: 1.42 min\n",
      "    * writing output\n",
      "    Mapping chromosome chr18\n",
      "    time elapsed: 1.48 min\n",
      "    * writing output\n",
      "    Mapping chromosome chr19\n",
      "    time elapsed: 1.56 min\n",
      "    * writing output\n",
      "    Mapping chromosome chr20\n",
      "    time elapsed: 1.63 min\n",
      "    * writing output\n",
      "    Mapping chromosome chr21\n",
      "    time elapsed: 1.66 min\n",
      "    * writing output\n",
      "    Mapping chromosome chr22\n",
      "    time elapsed: 1.70 min\n",
      "    * writing output\n",
      "done.\n",
      " Processing feature: tx\n",
      "Covariates dim:(195, 27)\n",
      "Phenotype dimensions:(113647, 195)\n",
      "cis-QTL mapping: nominal associations for all variant-phenotype pairs\n",
      "  * 195 samples\n",
      "  * 113647 phenotypes\n",
      "  * 27 covariates\n",
      "  * 11560560 variants\n",
      "  * applying in-sample 0.05 MAF filter\n",
      "  * cis-window: ±500,000\n",
      "  * checking phenotypes: 113647/113647\n",
      "    ** dropping 269 phenotypes without variants in cis-window\n",
      "  * Computing associations\n",
      "    Mapping chromosome chr1\n"
     ]
    },
    {
     "name": "stderr",
     "output_type": "stream",
     "text": [
      "/opt/conda/envs/tensorqtl/lib/python3.11/site-packages/tensorqtl/core.py:141: UserWarning: var(): degrees of freedom is <= 0. Correction should be strictly less than the reduction factor (input numel divided by output numel). (Triggered internally at ../aten/src/ATen/native/ReduceOps.cpp:1760.)\n",
      "  genotype_var_t = genotype_res_t.var(1)\n"
     ]
    },
    {
     "name": "stdout",
     "output_type": "stream",
     "text": [
      "    time elapsed: 0.39 min\n",
      "    * writing output\n",
      "    Mapping chromosome chr2\n",
      "    time elapsed: 0.98 min\n",
      "    * writing output\n",
      "    Mapping chromosome chr3\n",
      "    time elapsed: 1.48 min\n",
      "    * writing output\n",
      "    Mapping chromosome chr4\n",
      "    time elapsed: 1.88 min\n",
      "    * writing output\n",
      "    Mapping chromosome chr5\n",
      "    time elapsed: 2.24 min\n",
      "    * writing output\n",
      "    Mapping chromosome chr6\n",
      "    time elapsed: 2.63 min\n",
      "    * writing output\n",
      "    Mapping chromosome chr7\n",
      "    time elapsed: 3.03 min\n",
      "    * writing output\n",
      "    Mapping chromosome chr8\n",
      "    time elapsed: 3.38 min\n",
      "    * writing output\n",
      "    Mapping chromosome chr9\n",
      "    time elapsed: 3.68 min\n",
      "    * writing output\n",
      "    Mapping chromosome chr10\n",
      "    time elapsed: 3.96 min\n",
      "    * writing output\n",
      "    Mapping chromosome chr11\n",
      "    time elapsed: 4.34 min\n",
      "    * writing output\n",
      "    Mapping chromosome chr12\n",
      "    time elapsed: 4.78 min\n",
      "    * writing output\n",
      "    Mapping chromosome chr13\n",
      "    time elapsed: 5.05 min\n",
      "    * writing output\n",
      "    Mapping chromosome chr14\n",
      "    time elapsed: 5.28 min\n",
      "    * writing output\n",
      "    Mapping chromosome chr15\n",
      "    time elapsed: 5.58 min\n",
      "    * writing output\n",
      "    Mapping chromosome chr16\n",
      "    time elapsed: 5.93 min\n",
      "    * writing output\n",
      "    Mapping chromosome chr17\n",
      "    time elapsed: 6.37 min\n",
      "    * writing output\n",
      "    Mapping chromosome chr18\n",
      "    time elapsed: 6.65 min\n",
      "    * writing output\n",
      "    Mapping chromosome chr19\n",
      "    time elapsed: 7.01 min\n",
      "    * writing output\n",
      "    Mapping chromosome chr20\n",
      "    time elapsed: 7.33 min\n",
      "    * writing output\n",
      "    Mapping chromosome chr21\n",
      "    time elapsed: 7.45 min\n",
      "    * writing output\n",
      "    Mapping chromosome chr22\n",
      "    time elapsed: 7.59 min\n",
      "    * writing output\n",
      "done.\n",
      "All done.\n"
     ]
    }
   ],
   "source": [
    "for feat in feats:\n",
    "    print(f\" Processing feature: {feat}\")\n",
    "    tag = feat + '_gwnom'\n",
    "    expres = exprdict[feat]\n",
    "    covar=expres.replace(\"expr.bed.gz\", \"covars.txt\")\n",
    "    covariates_df = pd.read_csv(covar, sep='\\t', index_col=0).T\n",
    "    print(\"Covariates dim:\", end='')\n",
    "    print(covariates_df.shape)\n",
    "    #print(covariates_df.iloc[:5, :5])\n",
    "    phenotype_df, phenotype_pos_df = tensorqtl.read_phenotype_bed(expres)\n",
    "    print(\"Phenotype dimensions:\", end='')\n",
    "    print(phenotype_df.shape)\n",
    "    ## use the same chromosome set\n",
    "    express_chrom = set(phenotype_pos_df.chr)\n",
    "    assert len(variant_chrom.intersection(express_chrom))>0\n",
    "    if express_chrom - variant_chrom:\n",
    "        chrom_filter = phenotype_pos_df.chr.isin(variant_chrom)\n",
    "        if (len(chrom_filter)<phenotype_df.shape[0]):\n",
    "          phenotype_df = phenotype_df[chrom_filter]\n",
    "          phenotype_pos_df = phenotype_pos_df[chrom_filter]\n",
    "    ## make sure we keep only the genotypes for the expression samples\n",
    "    cols=phenotype_df.columns.tolist()\n",
    "    geno_df=genotype_df.loc[:, cols]\n",
    "    ## run tensorQTL:\n",
    "    cis.map_nominal(geno_df, variant_df, phenotype_df, phenotype_pos_df, prefix = tag, covariates_df= covariates_df,\n",
    "                maf_threshold=0.05, window=500000, output_dir= outdir, verbose=False)\n",
    "print(\"All done.\")"
   ]
  },
  {
   "cell_type": "code",
   "execution_count": null,
   "id": "c0e9c393-844b-4ad7-8178-791d51d3d3c4",
   "metadata": {},
   "outputs": [],
   "source": []
  }
 ],
 "metadata": {
  "kernelspec": {
   "display_name": "Python 3 (ipykernel)",
   "language": "python",
   "name": "python3"
  },
  "language_info": {
   "codemirror_mode": {
    "name": "ipython",
    "version": 3
   },
   "file_extension": ".py",
   "mimetype": "text/x-python",
   "name": "python",
   "nbconvert_exporter": "python",
   "pygments_lexer": "ipython3",
   "version": "3.11.8"
  }
 },
 "nbformat": 4,
 "nbformat_minor": 5
}
