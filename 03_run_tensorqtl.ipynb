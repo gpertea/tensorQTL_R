{
 "cells": [
  {
   "cell_type": "code",
   "execution_count": 1,
   "id": "a935ac11-b8e5-4114-8e20-315625ffe8ef",
   "metadata": {},
   "outputs": [
    {
     "name": "stdout",
     "output_type": "stream",
     "text": [
      "PyTorch 2.2.0+cu121\n",
      "CUDA available: True (NVIDIA GeForce RTX 3060)\n",
      "Pandas 2.1.4\n",
      "tensorqtl 1.0.9\n"
     ]
    }
   ],
   "source": [
    "#!/usr/bin/env python\n",
    "import pandas as pd\n",
    "import torch\n",
    "import tensorqtl\n",
    "from tensorqtl import genotypeio, cis\n",
    "import time\n",
    "import os\n",
    "import os.path as op\n",
    "import sys\n",
    "import glob\n",
    "import re\n",
    "print(f'PyTorch {torch.__version__}')\n",
    "#print(torch.__version__) \n",
    "print('CUDA available: {} ({})'.format(torch.cuda.is_available(), torch.cuda.get_device_name(torch.cuda.current_device())))\n",
    "print(f'Pandas {pd.__version__}')\n",
    "print(f'tensorqtl {tensorqtl.__version__}')\n",
    "\n",
    "outdir='eqtl_out'\n",
    "if not os.path.exists(outdir):\n",
    "    os.makedirs(outdir)"
   ]
  },
  {
   "cell_type": "code",
   "execution_count": 37,
   "id": "9b769386-4358-46be-ba6f-7bcffa0c4a98",
   "metadata": {},
   "outputs": [
    {
     "name": "stdout",
     "output_type": "stream",
     "text": [
      "mapping genotype IDs to RNAseq sample IDs based on mapping file: genotypes/mdd_geno2rna.tab\n",
      "Plink fam file found.\n",
      "Features found:  ['gene']\n",
      " Change the `features` array below to set the features to be processed:\n",
      "Features to process:  ['gene']\n"
     ]
    }
   ],
   "source": [
    "## ---- CHANGE HERE --------------\n",
    "in_dir='eqtl_inputs' ## directory path where the tensorqtl input files can be found:\n",
    "                     ## dsname.gene.expr.bed.gz and dsname.covars.txt\n",
    "dsname='mdd_amyg' ## dataset name, this is the prefix for input and output file names\n",
    "#plink='genotypes/gt_bsp12_n114_rIDs' ## plink bed prefix for genotype data\n",
    "plink='genotypes/mdd_maf01'\n",
    "mapping_file=None ## comment the line below if genotype IDs are the same with RNAseq sample IDs.\n",
    "#mapping_file='genoID2rnaID.tab' # genotype IDs will be changed to their RNAseq mappings in the 2nd column\n",
    "mapping_file='genotypes/mdd_geno2rna.tab'\n",
    "## if not None, mapping_file must be the same with the one used for 02_prep_tensorQTL_RSE_input.R\n",
    "col_map = None\n",
    "if mapping_file is not None and op.exists(mapping_file):\n",
    "    print(f\"mapping genotype IDs to RNAseq sample IDs based on mapping file: {mapping_file}\")\n",
    "    mapping_df = pd.read_csv(mapping_file, sep=\"\\t\", header=None, names=[\"gt_id\", \"r_id\"])\n",
    "    col_map = dict(zip(mapping_df['gt_id'], mapping_df['r_id']))\n",
    "if op.exists(plink+'.fam'): \n",
    "    print(\"Plink fam file found.\")\n",
    "else:\n",
    "    raise Exception(\"Plink fam \"+plink+\".fam not found!\")\n",
    "\n",
    "exprfiles=glob.glob(in_dir+'/'+dsname+'.*.expr.bed.gz')\n",
    "features = [os.path.basename(file).split('.')[1] for file in exprfiles]\n",
    "exprdict = {os.path.basename(file).split('.')[1]: file for file in exprfiles}\n",
    "for feat in features:\n",
    "    expres = exprdict[feat]\n",
    "    covar=expres.replace(\"expr.bed.gz\", \"covars.txt\")\n",
    "    if not op.exists(covar):\n",
    "       raise FileNotFoundError(error_message)(\"Covars file \"+covar+\" not found!\")\n",
    "print(\"Features found: \",features)\n",
    "print(\" Change the `features` array below to set the features to be processed:\")\n",
    "## CHANGE here and uncomment, if needed, in order to select the features to process:\n",
    "features = ['gene']\n",
    "print(\"Features to process: \", features)"
   ]
  },
  {
   "cell_type": "code",
   "execution_count": 38,
   "id": "7c26c66a-f599-447e-8250-5caa4b743dd5",
   "metadata": {},
   "outputs": [
    {
     "name": "stderr",
     "output_type": "stream",
     "text": [
      "Mapping files: 100%|████████████████████████████████████████████████████████████████████████████████████████████████████| 3/3 [00:07<00:00,  2.45s/it]\n"
     ]
    },
    {
     "name": "stdout",
     "output_type": "stream",
     "text": [
      "Genotype dimensions:(11031865, 537)\n"
     ]
    }
   ],
   "source": [
    "pr = genotypeio.PlinkReader(plink)\n",
    "genotype_df = pr.load_genotypes()\n",
    "variant_df = pr.bim.set_index('snp')[['chrom', 'pos']]\n",
    "print(\"Genotype dimensions:\", end='')\n",
    "print(genotype_df.shape)\n",
    "# if a mapping file is given\n",
    "# Check if all genotype_df column names are in the mapping file\n",
    "#all_columns_found = genotype_df.columns.isin(mapping_df[\"current_column\"]).all()\n",
    "\n",
    "if col_map is not None:\n",
    "  # Rename columns using the dictionary\n",
    "  genotype_df.rename(columns=col_map, inplace=True)\n",
    "## Now genotype_df contains the updated column names\n",
    "#print(genotype_df.iloc[:5, :7])  # Display the first few rows"
   ]
  },
  {
   "cell_type": "code",
   "execution_count": 39,
   "id": "d66fd02a-988f-4a2d-8565-373ab505a2f4",
   "metadata": {
    "editable": true,
    "slideshow": {
     "slide_type": ""
    },
    "tags": []
   },
   "outputs": [
    {
     "name": "stdout",
     "output_type": "stream",
     "text": [
      " Processing feature: gene\n",
      "Covariates dim:(537, 18)\n",
      "Phenotype dimensions:(25132, 537)\n",
      "cis-QTL mapping: nominal associations for all variant-phenotype pairs\n",
      "  * 537 samples\n",
      "  * 25132 phenotypes\n",
      "  * 18 covariates\n",
      "  * 11031865 variants\n",
      "  * applying in-sample 0.05 MAF filter\n",
      "  * cis-window: ±500,000\n",
      "    ** dropping 844 phenotypes on chrs. without genotypes\n",
      "  * checking phenotypes: 24288/24288\n",
      "    ** dropping 47 phenotypes without variants in cis-window\n",
      "  * Computing associations\n",
      "    Mapping chromosome chr1\n"
     ]
    },
    {
     "name": "stderr",
     "output_type": "stream",
     "text": [
      "/opt/conda/envs/tensorqtl/lib/python3.11/site-packages/tensorqtl/core.py:141: UserWarning: var(): degrees of freedom is <= 0. Correction should be strictly less than the reduction factor (input numel divided by output numel). (Triggered internally at ../aten/src/ATen/native/ReduceOps.cpp:1760.)\n",
      "  genotype_var_t = genotype_res_t.var(1)\n"
     ]
    },
    {
     "name": "stdout",
     "output_type": "stream",
     "text": [
      "    time elapsed: 0.11 min\n",
      "    * writing output\n",
      "    Mapping chromosome chr2\n",
      "    time elapsed: 0.23 min\n",
      "    * writing output\n",
      "    Mapping chromosome chr3\n",
      "    time elapsed: 0.32 min\n",
      "    * writing output\n",
      "    Mapping chromosome chr4\n",
      "    time elapsed: 0.40 min\n",
      "    * writing output\n",
      "    Mapping chromosome chr5\n",
      "    time elapsed: 0.48 min\n",
      "    * writing output\n",
      "    Mapping chromosome chr6\n",
      "    time elapsed: 0.57 min\n",
      "    * writing output\n",
      "    Mapping chromosome chr7\n",
      "    time elapsed: 0.66 min\n",
      "    * writing output\n",
      "    Mapping chromosome chr8\n",
      "    time elapsed: 0.73 min\n",
      "    * writing output\n",
      "    Mapping chromosome chr9\n",
      "    time elapsed: 0.80 min\n",
      "    * writing output\n",
      "    Mapping chromosome chr10\n",
      "    time elapsed: 0.86 min\n",
      "    * writing output\n",
      "    Mapping chromosome chr11\n",
      "    time elapsed: 0.94 min\n",
      "    * writing output\n",
      "    Mapping chromosome chr12\n",
      "    time elapsed: 1.03 min\n",
      "    * writing output\n",
      "    Mapping chromosome chr13\n",
      "    time elapsed: 1.08 min\n",
      "    * writing output\n",
      "    Mapping chromosome chr14\n",
      "    time elapsed: 1.14 min\n",
      "    * writing output\n",
      "    Mapping chromosome chr15\n",
      "    time elapsed: 1.20 min\n",
      "    * writing output\n",
      "    Mapping chromosome chr16\n",
      "    time elapsed: 1.28 min\n",
      "    * writing output\n",
      "    Mapping chromosome chr17\n",
      "    time elapsed: 1.36 min\n",
      "    * writing output\n",
      "    Mapping chromosome chr18\n",
      "    time elapsed: 1.41 min\n",
      "    * writing output\n",
      "    Mapping chromosome chr19\n",
      "    time elapsed: 1.49 min\n",
      "    * writing output\n",
      "    Mapping chromosome chr20\n",
      "    time elapsed: 1.56 min\n",
      "    * writing output\n",
      "    Mapping chromosome chr21\n",
      "    time elapsed: 1.58 min\n",
      "    * writing output\n",
      "    Mapping chromosome chr22\n",
      "    time elapsed: 1.62 min\n",
      "    * writing output\n",
      "done.\n",
      "All done.\n"
     ]
    }
   ],
   "source": [
    "## Fix chromosomes (add the \"chr\" prefix) if needed:\n",
    "if not variant_df.chrom.iloc[0].startswith('chr'):\n",
    "   variant_df.chrom = [ 'chr' + chrom for chrom in variant_df.chrom]\n",
    "## select chromosomes - to make sure we have the same chromosomes in our data for each expression dataset\n",
    "variant_chrom = set(variant_df.chrom)\n",
    "\n",
    "for feat in features:\n",
    "    print(f\" Processing feature: {feat}\")\n",
    "    tag = dsname+'.'+feat\n",
    "    expres = exprdict[feat]\n",
    "    covar=expres.replace(\"expr.bed.gz\", \"covars.txt\")\n",
    "    covariates_df = pd.read_csv(covar, sep='\\t', index_col=0).T\n",
    "    print(\"Covariates dim:\", end='')\n",
    "    print(covariates_df.shape)\n",
    "    #print(covariates_df.iloc[:5, :5])\n",
    "    phenotype_df, phenotype_pos_df = tensorqtl.read_phenotype_bed(expres)\n",
    "    print(\"Phenotype dimensions:\", end='')\n",
    "    print(phenotype_df.shape)\n",
    "    ## use the same chromosome set\n",
    "    express_chrom = set(phenotype_pos_df.chr)\n",
    "    assert len(variant_chrom.intersection(express_chrom))>0\n",
    "    if express_chrom - variant_chrom:\n",
    "        chrom_filter = phenotype_pos_df.chr.isin(variant_chrom)\n",
    "        if (len(chrom_filter)<phenotype_df.shape[0]):\n",
    "          phenotype_df = phenotype_df[chrom_filter]\n",
    "          phenotype_pos_df = phenotype_pos_df[chrom_filter]\n",
    "    ## make sure we keep only the genotypes for the expression samples\n",
    "    cols=phenotype_df.columns.tolist()\n",
    "    geno_df=genotype_df.loc[:, cols]\n",
    "    ## run tensorQTL:\n",
    "    cis.map_nominal(geno_df, variant_df, phenotype_df, phenotype_pos_df, prefix = tag, covariates_df= covariates_df,\n",
    "                maf_threshold=0.05, window=500000, output_dir= outdir, verbose=False)\n",
    "print(\"All done.\")"
   ]
  },
  {
   "cell_type": "code",
   "execution_count": null,
   "id": "c0e9c393-844b-4ad7-8178-791d51d3d3c4",
   "metadata": {},
   "outputs": [],
   "source": []
  }
 ],
 "metadata": {
  "kernelspec": {
   "display_name": "Python 3 (ipykernel)",
   "language": "python",
   "name": "python3"
  },
  "language_info": {
   "codemirror_mode": {
    "name": "ipython",
    "version": 3
   },
   "file_extension": ".py",
   "mimetype": "text/x-python",
   "name": "python",
   "nbconvert_exporter": "python",
   "pygments_lexer": "ipython3",
   "version": "3.11.8"
  }
 },
 "nbformat": 4,
 "nbformat_minor": 5
}
