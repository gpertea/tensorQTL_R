{
 "cells": [
  {
   "cell_type": "code",
   "execution_count": 1,
   "id": "a935ac11-b8e5-4114-8e20-315625ffe8ef",
   "metadata": {},
   "outputs": [
    {
     "name": "stdout",
     "output_type": "stream",
     "text": [
      "PyTorch 2.5.1+cu124\n",
      "CUDA available: True (NVIDIA GeForce RTX 4070 Ti SUPER)\n",
      "Pandas 2.2.3\n",
      "tensorqtl 1.0.10\n"
     ]
    }
   ],
   "source": [
    "#!/usr/bin/env python\n",
    "import pandas as pd\n",
    "import torch\n",
    "import tensorqtl\n",
    "from tensorqtl import pgen, cis\n",
    "import time\n",
    "import os\n",
    "import os.path as op\n",
    "import sys\n",
    "import glob\n",
    "import re\n",
    "print(f'PyTorch {torch.__version__}')\n",
    "#print(torch.__version__)\n",
    "print('CUDA available: {} ({})'.format(torch.cuda.is_available(), torch.cuda.get_device_name(torch.cuda.current_device())))\n",
    "print(f'Pandas {pd.__version__}')\n",
    "print(f'tensorqtl {tensorqtl.__version__}')\n",
    "\n",
    "outdir='eqtl_out'\n",
    "if not os.path.exists(outdir):\n",
    "    os.makedirs(outdir)"
   ]
  },
  {
   "cell_type": "code",
   "execution_count": 2,
   "id": "9b769386-4358-46be-ba6f-7bcffa0c4a98",
   "metadata": {},
   "outputs": [
    {
     "name": "stdout",
     "output_type": "stream",
     "text": [
      "Plink2 pgen file found.\n",
      "Features found:  ['gene']\n",
      " Change the `features` array below to set the features to be processed:\n",
      "Features to process:  ['gene']\n"
     ]
    }
   ],
   "source": [
    "## ---- CHANGE HERE --------------\n",
    "in_dir='eqtl_inputs' ## directory path where the tensorqtl input files can be found:\n",
    "                     ## dsname.gene.expr.bed.gz and dsname.covars.txt\n",
    "dsname='claustrum' ## dataset name, this is the prefix for input and output file names\n",
    "plink='genotypes/claustrum_maf05' ## plink prefix for genotype data\n",
    "#plink='genotypes/mdd_maf01'\n",
    "mapping_file=None ## comment the line below if genotype IDs are the same with RNAseq sample IDs.\n",
    "#mapping_file='genoID2rnaID.tab' # genotype IDs will be changed to their RNAseq mappings in the 2nd column\n",
    "#mapping_file='genotypes/mdd_geno2rna.tab'\n",
    "## if not None, mapping_file must be the same with the one used for 02_prep_tensorQTL_RSE_input.R\n",
    "col_map = None\n",
    "if mapping_file is not None and op.exists(mapping_file):\n",
    "    print(f\"mapping genotype IDs to RNAseq sample IDs based on mapping file: {mapping_file}\")\n",
    "    mapping_df = pd.read_csv(mapping_file, sep=\"\\t\", header=None, names=[\"gt_id\", \"r_id\"])\n",
    "    col_map = dict(zip(mapping_df['gt_id'], mapping_df['r_id']))\n",
    "if op.exists(plink+'.pgen'): # checks for plink2 pgen file for genotype data\n",
    "    print(\"Plink2 pgen file found.\")\n",
    "else:\n",
    "    raise Exception(\"Plink2 \"+plink+\".pgen not found!\")\n",
    "\n",
    "exprfiles=glob.glob(in_dir+'/'+dsname+'.*.expr.bed.gz')\n",
    "features = [os.path.basename(file).split('.')[1] for file in exprfiles]\n",
    "exprdict = {os.path.basename(file).split('.')[1]: file for file in exprfiles}\n",
    "for feat in features:\n",
    "    expres = exprdict[feat]\n",
    "    covar=expres.replace(\"expr.bed.gz\", \"covars.txt\")\n",
    "    if not op.exists(covar):\n",
    "       raise FileNotFoundError(error_message)(\"Covars file \"+covar+\" not found!\")\n",
    "print(\"Features found: \",features)\n",
    "print(\" Change the `features` array below to set the features to be processed:\")\n",
    "## CHANGE here and uncomment, if needed, in order to select the features to process:\n",
    "features = ['gene']\n",
    "print(\"Features to process: \", features)"
   ]
  },
  {
   "cell_type": "code",
   "execution_count": 3,
   "id": "7c26c66a-f599-447e-8250-5caa4b743dd5",
   "metadata": {},
   "outputs": [
    {
     "name": "stdout",
     "output_type": "stream",
     "text": [
      "Genotype dimensions: (6026215, 60)\n"
     ]
    }
   ],
   "source": [
    "#pr = genotypeio.PlinkReader(plink)\n",
    "## use plink2 pgen format\n",
    "pgr = pgen.PgenReader(plink)\n",
    "genotype_df = pgr.load_genotypes()\n",
    "#variant_df = pr.bim.set_index('snp')[['chrom', 'pos']]\n",
    "variant_df = pgr.variant_df\n",
    "print(\"Genotype dimensions: \", end='')\n",
    "print(genotype_df.shape)\n",
    "# if a mapping file is given\n",
    "# Check if all genotype_df column names are in the mapping file\n",
    "#all_columns_found = genotype_df.columns.isin(mapping_df[\"current_column\"]).all()\n",
    "\n",
    "if col_map is not None:\n",
    "  # Rename columns using the dictionary\n",
    "  genotype_df.rename(columns=col_map, inplace=True)\n",
    "## Now genotype_df contains the updated column names\n",
    "#print(genotype_df.iloc[:5, :7])  # Display the first few rows\n",
    "\n"
   ]
  },
  {
   "cell_type": "code",
   "execution_count": 4,
   "id": "d66fd02a-988f-4a2d-8565-373ab505a2f4",
   "metadata": {
    "editable": true,
    "slideshow": {
     "slide_type": ""
    },
    "tags": []
   },
   "outputs": [
    {
     "name": "stdout",
     "output_type": "stream",
     "text": [
      " Processing feature: gene\n",
      "Covariates dim:(60, 8)\n",
      "Phenotype dimensions:(25143, 60)\n",
      "cis-QTL mapping: nominal associations for all variant-phenotype pairs\n",
      "  * 60 samples\n",
      "  * 25143 phenotypes\n",
      "  * 8 covariates\n",
      "  * 6026215 variants\n",
      "  * applying in-sample 0.05 MAF filter\n",
      "  * cis-window: ±500,000\n",
      "  * checking phenotypes: 25143/25143\n",
      "    ** dropping 144 phenotypes without variants in cis-window\n",
      "  * Computing associations\n",
      "    Mapping chromosome chr1\n",
      "    time elapsed: 0.05 min\n",
      "    * writing output\n",
      "    Mapping chromosome chr2\n",
      "    time elapsed: 0.12 min\n",
      "    * writing output\n",
      "    Mapping chromosome chr3\n",
      "    time elapsed: 0.18 min\n",
      "    * writing output\n",
      "    Mapping chromosome chr4\n",
      "    time elapsed: 0.22 min\n",
      "    * writing output\n",
      "    Mapping chromosome chr5\n",
      "    time elapsed: 0.26 min\n",
      "    * writing output\n",
      "    Mapping chromosome chr6\n",
      "    time elapsed: 0.31 min\n",
      "    * writing output\n",
      "    Mapping chromosome chr7\n",
      "    time elapsed: 0.36 min\n",
      "    * writing output\n",
      "    Mapping chromosome chr8\n",
      "    time elapsed: 0.40 min\n",
      "    * writing output\n",
      "    Mapping chromosome chr9\n",
      "    time elapsed: 0.43 min\n",
      "    * writing output\n",
      "    Mapping chromosome chr10\n",
      "    time elapsed: 0.47 min\n",
      "    * writing output\n",
      "    Mapping chromosome chr11\n",
      "    time elapsed: 0.51 min\n",
      "    * writing output\n",
      "    Mapping chromosome chr12\n",
      "    time elapsed: 0.56 min\n",
      "    * writing output\n",
      "    Mapping chromosome chr13\n",
      "    time elapsed: 0.60 min\n",
      "    * writing output\n",
      "    Mapping chromosome chr14\n",
      "    time elapsed: 0.62 min\n",
      "    * writing output\n",
      "    Mapping chromosome chr15\n",
      "    time elapsed: 0.66 min\n",
      "    * writing output\n",
      "    Mapping chromosome chr16\n",
      "    time elapsed: 0.70 min\n",
      "    * writing output\n",
      "    Mapping chromosome chr17\n",
      "    time elapsed: 0.74 min\n",
      "    * writing output\n",
      "    Mapping chromosome chr18\n",
      "    time elapsed: 0.77 min\n",
      "    * writing output\n",
      "    Mapping chromosome chr19\n",
      "    time elapsed: 0.81 min\n",
      "    * writing output\n",
      "    Mapping chromosome chr20\n",
      "    time elapsed: 0.85 min\n",
      "    * writing output\n",
      "    Mapping chromosome chr21\n",
      "    time elapsed: 0.87 min\n",
      "    * writing output\n",
      "    Mapping chromosome chr22\n",
      "    time elapsed: 0.88 min\n",
      "    * writing output\n",
      "    Mapping chromosome chrX\n",
      "    time elapsed: 0.91 min\n",
      "    * writing output\n",
      "done.\n",
      "All done.\n"
     ]
    }
   ],
   "source": [
    "def fixBrNums(col):\n",
    "    return re.sub(r'^Br(\\d\\d\\d)$', r'Br0\\1', col)\n",
    "\n",
    "## fix Brnums with 3 digits\n",
    "genotype_df.columns = [fixBrNums(col) for col in genotype_df.columns]\n",
    "\n",
    "\n",
    "##  etc. Fix chromosomes (add the \"chr\" prefix) if needed:\n",
    "if not variant_df.chrom.iloc[0].startswith('chr'):\n",
    "   variant_df.chrom = [ 'chr' + chrom for chrom in variant_df.chrom]\n",
    "## select chromosomes - to make sure we have the same chromosomes in our data for each expression dataset\n",
    "variant_chrom = set(variant_df.chrom)\n",
    "\n",
    "for feat in features:\n",
    "    print(f\" Processing feature: {feat}\")\n",
    "    tag = dsname+'.'+feat\n",
    "    expres = exprdict[feat]\n",
    "    covar=expres.replace(\"expr.bed.gz\", \"covars.txt\")\n",
    "    covariates_df = pd.read_csv(covar, sep='\\t', index_col=0).T\n",
    "    ## fix Brnums with 3 digits\n",
    "    covariates_df.index = [fixBrNums(idx) for idx in covariates_df.index]\n",
    "\n",
    "    print(\"Covariates dim:\", end='')\n",
    "    print(covariates_df.shape)\n",
    "    #print(covariates_df.iloc[:5, :5])\n",
    "    phenotype_df, phenotype_pos_df = tensorqtl.read_phenotype_bed(expres)\n",
    "    print(\"Phenotype dimensions:\", end='')\n",
    "    print(phenotype_df.shape)\n",
    "    ## fix Brnums with 3 digits\n",
    "    phenotype_df.columns = [fixBrNums(col) for col in phenotype_df.columns]\n",
    "\n",
    "\n",
    "    ## use the same chromosome set\n",
    "    express_chrom = set(phenotype_pos_df.chr)\n",
    "    assert len(variant_chrom.intersection(express_chrom))>0\n",
    "    if express_chrom - variant_chrom:\n",
    "        chrom_filter = phenotype_pos_df.chr.isin(variant_chrom)\n",
    "        if (len(chrom_filter)<phenotype_df.shape[0]):\n",
    "          phenotype_df = phenotype_df[chrom_filter]\n",
    "          phenotype_pos_df = phenotype_pos_df[chrom_filter]\n",
    "    ## make sure we keep only the genotypes for the same expression samples\n",
    "    cols=phenotype_df.columns.tolist()\n",
    "    gcols=genotype_df.columns.tolist()\n",
    "    ## which genotypes are in the expression data? print them here if any are missing and stop the process\n",
    "    missing_geno = set(cols) - set(gcols)\n",
    "    if missing_geno:\n",
    "        print(f\"Genotypes missing for {len(missing_geno)} samples: {missing_geno}\")\n",
    "        raise RuntimeError(\"Missing genotypes detected. Aborting...\")\n",
    "    ## show if any genotypes are not in the expression data:\n",
    "    missing_expr = set(gcols) - set(cols)\n",
    "    if missing_expr:\n",
    "        print(f\"These genotypes have no expression data given: {missing_expr}\")\n",
    "    geno_df=genotype_df.loc[:, cols]\n",
    "    ## run tensorQTL:\n",
    "    cis.map_nominal(geno_df, variant_df, phenotype_df, phenotype_pos_df, prefix = tag, covariates_df= covariates_df,\n",
    "                maf_threshold=0.05, window=500000, output_dir= outdir, verbose=False)\n",
    "print(\"All done.\")"
   ]
  },
  {
   "cell_type": "code",
   "execution_count": 5,
   "id": "2bd5e7cd",
   "metadata": {},
   "outputs": [
    {
     "name": "stdout",
     "output_type": "stream",
     "text": [
      "cis-QTL mapping: empirical p-values for phenotypes\n",
      "  * 60 samples\n",
      "  * 25143 phenotypes\n",
      "  * 8 covariates\n",
      "  * 6026215 variants\n",
      "  * cis-window: ±1,000,000\n",
      "  * checking phenotypes: 25143/25143\n",
      "    ** dropping 93 phenotypes without variants in cis-window\n",
      "  * computing permutations\n",
      "    processing phenotype 25050/25050\n",
      "  Time elapsed: 8.81 min\n",
      "done.\n"
     ]
    }
   ],
   "source": [
    "## run permutation-based mapping with map_cis (takes longer)\n",
    "## cis.map_cis is LD aware and it only outputs the most significant eQTL per gene\n",
    "cis_df = cis.map_cis(geno_df, variant_df, phenotype_df, phenotype_pos_df, covariates_df)\n",
    "tensorqtl.calculate_qvalues(cis_df, qvalue_lambda=0.85, fdr=0.05)\n",
    "outfile = os.path.join(outdir, f\"{tag}.map_cis.tab.gz\")\n",
    "cis_df.to_csv(outfile, sep='\\t', compression='gzip', index=True)"
   ]
  },
  {
   "cell_type": "code",
   "execution_count": 24,
   "id": "df828f30",
   "metadata": {},
   "outputs": [
    {
     "name": "stdout",
     "output_type": "stream",
     "text": [
      "<class 'pandas.core.frame.DataFrame'>\n"
     ]
    }
   ],
   "source": [
    "print(type(cis_df))"
   ]
  }
 ],
 "metadata": {
  "kernelspec": {
   "display_name": "tensorqtl",
   "language": "python",
   "name": "python3"
  },
  "language_info": {
   "codemirror_mode": {
    "name": "ipython",
    "version": 3
   },
   "file_extension": ".py",
   "mimetype": "text/x-python",
   "name": "python",
   "nbconvert_exporter": "python",
   "pygments_lexer": "ipython3",
   "version": "3.11.11"
  }
 },
 "nbformat": 4,
 "nbformat_minor": 5
}
